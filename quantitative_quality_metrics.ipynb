{
 "cells": [
  {
   "cell_type": "code",
   "execution_count": 3,
   "metadata": {},
   "outputs": [
    {
     "name": "stderr",
     "output_type": "stream",
     "text": [
      "/home/nthom/miniconda3/envs/opensphere/lib/python3.11/site-packages/tqdm/auto.py:21: TqdmWarning: IProgress not found. Please update jupyter and ipywidgets. See https://ipywidgets.readthedocs.io/en/stable/user_install.html\n",
      "  from .autonotebook import tqdm as notebook_tqdm\n"
     ]
    }
   ],
   "source": [
    "import os\n",
    "from glob import glob\n",
    "\n",
    "import umap\n",
    "from sklearn.manifold import TSNE\n",
    "\n",
    "from sklearn.preprocessing import LabelEncoder\n",
    "from sklearn.model_selection import StratifiedShuffleSplit\n",
    "\n",
    "import matplotlib.pyplot as plt\n",
    "import numpy as np\n",
    "import pandas as pd\n",
    "from scipy.spatial.distance import cdist, pdist, squareform\n",
    "\n",
    "import torch\n",
    "\n",
    "from local_utils import (\n",
    "    init_embeddings,\n",
    "    calculate_concept_centers,\n",
    "    calculate_concept_center_distances,\n",
    "    compute_top_n_per_doppelganger_pair,\n",
    "    compute_top_n_per_sample,\n",
    ")"
   ]
  },
  {
   "cell_type": "code",
   "execution_count": 4,
   "metadata": {},
   "outputs": [
    {
     "name": "stdout",
     "output_type": "stream",
     "text": [
      "390\n"
     ]
    }
   ],
   "source": [
    "embeddings_path = \"/home/nmichelotti/Desktop/Embeddings/embeddings_for_n8/model_240000_DoppelVer_All_112x112_outputs.pth\"\n",
    "embeddings_image_path = \"/home/nmichelotti/Desktop/Embeddings/embeddings_for_n8/model_240000_DoppelVer_All_112x112_image_paths.txt\"\n",
    "image_dir = \"/home/nmichelotti/Desktop/Embeddings/embeddings_for_n8/DoppelVer_All_112x112\"\n",
    "doppelganger_pairs_path = (\n",
    "    \"/home/nmichelotti/Desktop/Embeddings/embeddings_for_n8/doppelgangerPairs.csv\"\n",
    ")\n",
    "embeddings_df = init_embeddings(embeddings_path, embeddings_image_path, image_dir)\n",
    "print(len(embeddings_df[\"class\"].unique()))"
   ]
  },
  {
   "cell_type": "code",
   "execution_count": 5,
   "metadata": {},
   "outputs": [],
   "source": [
    "doppelganger_pairs_df = pd.read_csv(doppelganger_pairs_path)\n",
    "doppelganger_pairs_df[\"Pair 1\"] = doppelganger_pairs_df[\"Pair 1\"].str.replace(\" \", \"_\")\n",
    "doppelganger_pairs_df[\"Pair 2\"] = doppelganger_pairs_df[\"Pair 2\"].str.replace(\" \", \"_\")"
   ]
  },
  {
   "cell_type": "code",
   "execution_count": 6,
   "metadata": {},
   "outputs": [],
   "source": [
    "concept_centers_df = calculate_concept_centers(embeddings_df)\n",
    "concept_distance_df = calculate_concept_center_distances(concept_centers_df)\n",
    "(\n",
    "    doppelganger_pair_top_n_analysis_df,\n",
    "    doppelganger_pair_acc_list,\n",
    ") = compute_top_n_per_doppelganger_pair(\n",
    "    concept_distance_df, doppelganger_pairs_df, [1, 2, 3, 5, 10]\n",
    ")\n",
    "(\n",
    "    sample_top_n_analysis_df,\n",
    "    # per_id_sample_top_n_analysis_df,\n",
    "    sample_acc_list,\n",
    ") = compute_top_n_per_sample(concept_centers_df, embeddings_df, [1, 2, 3, 5, 10])"
   ]
  },
  {
   "cell_type": "code",
   "execution_count": 7,
   "metadata": {},
   "outputs": [
    {
     "name": "stdout",
     "output_type": "stream",
     "text": [
      "                Source ID   Doppelganger ID       Closest ID  Top 1 Acc.  \\\n",
      "0                 Beyonce           Solange    Anne_Hathaway       False   \n",
      "1              Katy_Perry   Zooey_Deschanel    Wendie_Malick       False   \n",
      "2             Hilary_Duff       Haylie_Duff     Henry_Cavill       False   \n",
      "3             Ben_Affleck     Casey_Affleck     Sarah_Hyland       False   \n",
      "4           Penelope_Cruz       Monica_Cruz     Henry_Cavill       False   \n",
      "..                    ...               ...              ...         ...   \n",
      "232  James_Patrick_Stuart    Christian_Bale      Rooney_Mara       False   \n",
      "233           Stana_Katic  Elizabeth_Reaser      Nina_Dobrev       False   \n",
      "234          Serinda_Swan    Kirsten_Storms      Hilary_Duff       False   \n",
      "235             Brad_Pitt        Guy_Pearce      Hilary_Duff       False   \n",
      "236          James_Franco       Dave_Franco  Keira_Knightley       False   \n",
      "\n",
      "     Top 2 Acc.  Top 3 Acc.  Top 5 Acc.  Top 10 Acc.  \n",
      "0         False       False       False        False  \n",
      "1         False       False       False        False  \n",
      "2         False       False       False        False  \n",
      "3         False       False       False        False  \n",
      "4         False       False       False        False  \n",
      "..          ...         ...         ...          ...  \n",
      "232       False       False       False        False  \n",
      "233       False       False       False        False  \n",
      "234       False       False       False        False  \n",
      "235       False       False       False        False  \n",
      "236       False       False       False        False  \n",
      "\n",
      "[237 rows x 8 columns]\n",
      "[0.0, 0.0, 0.0, 0.004219409282700422, 0.016877637130801686]\n"
     ]
    }
   ],
   "source": [
    "print(doppelganger_pair_top_n_analysis_df)\n",
    "print(doppelganger_pair_acc_list)\n"
   ]
  },
  {
   "cell_type": "code",
   "execution_count": 8,
   "metadata": {},
   "outputs": [
    {
     "name": "stdout",
     "output_type": "stream",
     "text": [
      "                Source ID            Closest ID  Top 1 Acc.  Top 2 Acc.  \\\n",
      "0           Zooey_Kravitz         Corey_Feldman       False       False   \n",
      "1             Olivia_Munn      Guillermo_Zapata       False       False   \n",
      "2            Hugh_Jackman         Corey_Feldman       False       False   \n",
      "3           Raven_Goodwin  Christopher_Williams       False       False   \n",
      "4              Katy_Perry         Corey_Feldman       False       False   \n",
      "...                   ...                   ...         ...         ...   \n",
      "33744     Guillaume_Canet           Jaden_Smith       False       False   \n",
      "33745  Christy_Turlington           Amber_Heard       False       False   \n",
      "33746     Luke_Youngblood         Tina_Majorino       False       False   \n",
      "33747            Weird_Al      Daniel_Day-Lewis       False       False   \n",
      "33748     America_Ferrera        Michael_Weston       False        True   \n",
      "\n",
      "       Top 3 Acc.  Top 5 Acc.  Top 10 Acc.  \n",
      "0           False       False        False  \n",
      "1           False       False         True  \n",
      "2           False       False        False  \n",
      "3           False       False         True  \n",
      "4           False       False        False  \n",
      "...           ...         ...          ...  \n",
      "33744       False       False        False  \n",
      "33745       False       False        False  \n",
      "33746       False       False        False  \n",
      "33747        True        True         True  \n",
      "33748        True        True         True  \n",
      "\n",
      "[33749 rows x 7 columns]\n",
      "[0.04409019526504489, 0.07680227562298142, 0.10216599010341047, 0.14190050075557795, 0.21769533912115915]\n"
     ]
    }
   ],
   "source": [
    "print(sample_top_n_analysis_df)\n",
    "print(sample_acc_list)"
   ]
  },
  {
   "cell_type": "code",
   "execution_count": null,
   "metadata": {},
   "outputs": [],
   "source": []
  }
 ],
 "metadata": {
  "kernelspec": {
   "display_name": "Python 3",
   "language": "python",
   "name": "python3"
  },
  "language_info": {
   "codemirror_mode": {
    "name": "ipython",
    "version": 3
   },
   "file_extension": ".py",
   "mimetype": "text/x-python",
   "name": "python",
   "nbconvert_exporter": "python",
   "pygments_lexer": "ipython3",
   "version": "3.11.8"
  }
 },
 "nbformat": 4,
 "nbformat_minor": 2
}
